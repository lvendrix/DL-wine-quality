{
 "cells": [
  {
   "cell_type": "code",
   "execution_count": 2,
   "source": [
    "import numpy as np\r\n",
    "import pandas as pd\r\n",
    "import matplotlib.pyplot as plt\r\n",
    "from matplotlib.pyplot import figure\r\n",
    "%matplotlib inline\r\n",
    "import itertools"
   ],
   "outputs": [],
   "metadata": {}
  },
  {
   "cell_type": "code",
   "execution_count": 3,
   "source": [
    "from sklearn.preprocessing import MinMaxScaler\r\n",
    "from sklearn.model_selection import train_test_split\r\n",
    "from sklearn.metrics import confusion_matrix, classification_report, accuracy_score\r\n",
    "import tensorflow as tf\r\n",
    "from tensorflow import keras\r\n",
    "from tensorflow.keras.layers import Activation, Dense\r\n",
    "from tensorflow.keras.models import Sequential\r\n",
    "from tensorflow.keras.optimizers import Adam\r\n",
    "from tensorflow.keras.metrics import categorical_crossentropy\r\n",
    "from tensorflow.keras.callbacks import EarlyStopping"
   ],
   "outputs": [
    {
     "output_type": "stream",
     "name": "stdout",
     "text": [
      "Init Plugin\n",
      "Init Graph Optimizer\n",
      "Init Kernel\n"
     ]
    }
   ],
   "metadata": {}
  },
  {
   "cell_type": "code",
   "execution_count": 4,
   "source": [
    "# COACHES NOTES: Quite small edit, do add the keyword axis=1 to avoid the warning. \r\n",
    "df = pd.read_csv('wine.csv')\r\n",
    "df = df.drop('index', 1)\r\n",
    "df = df.sample(frac = 1).reset_index(drop=True)\r\n",
    "df.head()"
   ],
   "outputs": [
    {
     "output_type": "stream",
     "name": "stderr",
     "text": [
      "/var/folders/21/9926hrc904n735_8jxsmmlp40000gn/T/ipykernel_3391/3989837691.py:2: FutureWarning: In a future version of pandas all arguments of DataFrame.drop except for the argument 'labels' will be keyword-only\n",
      "  df = df.drop('index', 1)\n"
     ]
    },
    {
     "output_type": "execute_result",
     "data": {
      "text/html": [
       "<div>\n",
       "<style scoped>\n",
       "    .dataframe tbody tr th:only-of-type {\n",
       "        vertical-align: middle;\n",
       "    }\n",
       "\n",
       "    .dataframe tbody tr th {\n",
       "        vertical-align: top;\n",
       "    }\n",
       "\n",
       "    .dataframe thead th {\n",
       "        text-align: right;\n",
       "    }\n",
       "</style>\n",
       "<table border=\"1\" class=\"dataframe\">\n",
       "  <thead>\n",
       "    <tr style=\"text-align: right;\">\n",
       "      <th></th>\n",
       "      <th>fixed acidity</th>\n",
       "      <th>volatile acidity</th>\n",
       "      <th>citric acid</th>\n",
       "      <th>residual sugar</th>\n",
       "      <th>chlorides</th>\n",
       "      <th>free sulfur dioxide</th>\n",
       "      <th>total sulfur dioxide</th>\n",
       "      <th>density</th>\n",
       "      <th>pH</th>\n",
       "      <th>sulphates</th>\n",
       "      <th>alcohol</th>\n",
       "      <th>quality</th>\n",
       "    </tr>\n",
       "  </thead>\n",
       "  <tbody>\n",
       "    <tr>\n",
       "      <th>0</th>\n",
       "      <td>7.0</td>\n",
       "      <td>0.16</td>\n",
       "      <td>0.25</td>\n",
       "      <td>14.3</td>\n",
       "      <td>0.044</td>\n",
       "      <td>27.0</td>\n",
       "      <td>149.0</td>\n",
       "      <td>0.99800</td>\n",
       "      <td>2.91</td>\n",
       "      <td>0.46</td>\n",
       "      <td>9.2</td>\n",
       "      <td>6</td>\n",
       "    </tr>\n",
       "    <tr>\n",
       "      <th>1</th>\n",
       "      <td>7.1</td>\n",
       "      <td>0.24</td>\n",
       "      <td>0.34</td>\n",
       "      <td>1.2</td>\n",
       "      <td>0.045</td>\n",
       "      <td>6.0</td>\n",
       "      <td>132.0</td>\n",
       "      <td>0.99132</td>\n",
       "      <td>3.16</td>\n",
       "      <td>0.46</td>\n",
       "      <td>11.2</td>\n",
       "      <td>4</td>\n",
       "    </tr>\n",
       "    <tr>\n",
       "      <th>2</th>\n",
       "      <td>6.1</td>\n",
       "      <td>0.24</td>\n",
       "      <td>0.30</td>\n",
       "      <td>1.5</td>\n",
       "      <td>0.045</td>\n",
       "      <td>22.0</td>\n",
       "      <td>61.0</td>\n",
       "      <td>0.99200</td>\n",
       "      <td>3.31</td>\n",
       "      <td>0.54</td>\n",
       "      <td>10.4</td>\n",
       "      <td>5</td>\n",
       "    </tr>\n",
       "    <tr>\n",
       "      <th>3</th>\n",
       "      <td>6.8</td>\n",
       "      <td>0.38</td>\n",
       "      <td>0.29</td>\n",
       "      <td>9.9</td>\n",
       "      <td>0.037</td>\n",
       "      <td>40.0</td>\n",
       "      <td>146.0</td>\n",
       "      <td>0.99326</td>\n",
       "      <td>3.11</td>\n",
       "      <td>0.37</td>\n",
       "      <td>11.5</td>\n",
       "      <td>6</td>\n",
       "    </tr>\n",
       "    <tr>\n",
       "      <th>4</th>\n",
       "      <td>7.9</td>\n",
       "      <td>0.50</td>\n",
       "      <td>0.33</td>\n",
       "      <td>2.0</td>\n",
       "      <td>0.084</td>\n",
       "      <td>15.0</td>\n",
       "      <td>143.0</td>\n",
       "      <td>0.99680</td>\n",
       "      <td>3.20</td>\n",
       "      <td>0.55</td>\n",
       "      <td>9.5</td>\n",
       "      <td>5</td>\n",
       "    </tr>\n",
       "  </tbody>\n",
       "</table>\n",
       "</div>"
      ],
      "text/plain": [
       "   fixed acidity  volatile acidity  citric acid  residual sugar  chlorides  \\\n",
       "0            7.0              0.16         0.25            14.3      0.044   \n",
       "1            7.1              0.24         0.34             1.2      0.045   \n",
       "2            6.1              0.24         0.30             1.5      0.045   \n",
       "3            6.8              0.38         0.29             9.9      0.037   \n",
       "4            7.9              0.50         0.33             2.0      0.084   \n",
       "\n",
       "   free sulfur dioxide  total sulfur dioxide  density    pH  sulphates  \\\n",
       "0                 27.0                 149.0  0.99800  2.91       0.46   \n",
       "1                  6.0                 132.0  0.99132  3.16       0.46   \n",
       "2                 22.0                  61.0  0.99200  3.31       0.54   \n",
       "3                 40.0                 146.0  0.99326  3.11       0.37   \n",
       "4                 15.0                 143.0  0.99680  3.20       0.55   \n",
       "\n",
       "   alcohol  quality  \n",
       "0      9.2        6  \n",
       "1     11.2        4  \n",
       "2     10.4        5  \n",
       "3     11.5        6  \n",
       "4      9.5        5  "
      ]
     },
     "metadata": {},
     "execution_count": 4
    }
   ],
   "metadata": {}
  },
  {
   "cell_type": "code",
   "execution_count": 5,
   "source": [
    "df.quality.value_counts()"
   ],
   "outputs": [
    {
     "output_type": "execute_result",
     "data": {
      "text/plain": [
       "6    2836\n",
       "5    2138\n",
       "7    1079\n",
       "4     216\n",
       "8     193\n",
       "3      30\n",
       "9       5\n",
       "Name: quality, dtype: int64"
      ]
     },
     "metadata": {},
     "execution_count": 5
    }
   ],
   "metadata": {}
  },
  {
   "cell_type": "code",
   "execution_count": 6,
   "source": [
    "# COACHES NOTES: Could also do it with list comprehension in one line. Would look more slick but this also works.\r\n",
    "def quality_good_bad(x):\r\n",
    "    if x >= 7:\r\n",
    "        return 1\r\n",
    "    else:\r\n",
    "        return 0\r\n",
    "\r\n",
    "df['quality'] = df['quality'].apply(lambda x: quality_good_bad(x))"
   ],
   "outputs": [],
   "metadata": {}
  },
  {
   "cell_type": "code",
   "execution_count": 7,
   "source": [
    "df.head()"
   ],
   "outputs": [
    {
     "output_type": "execute_result",
     "data": {
      "text/html": [
       "<div>\n",
       "<style scoped>\n",
       "    .dataframe tbody tr th:only-of-type {\n",
       "        vertical-align: middle;\n",
       "    }\n",
       "\n",
       "    .dataframe tbody tr th {\n",
       "        vertical-align: top;\n",
       "    }\n",
       "\n",
       "    .dataframe thead th {\n",
       "        text-align: right;\n",
       "    }\n",
       "</style>\n",
       "<table border=\"1\" class=\"dataframe\">\n",
       "  <thead>\n",
       "    <tr style=\"text-align: right;\">\n",
       "      <th></th>\n",
       "      <th>fixed acidity</th>\n",
       "      <th>volatile acidity</th>\n",
       "      <th>citric acid</th>\n",
       "      <th>residual sugar</th>\n",
       "      <th>chlorides</th>\n",
       "      <th>free sulfur dioxide</th>\n",
       "      <th>total sulfur dioxide</th>\n",
       "      <th>density</th>\n",
       "      <th>pH</th>\n",
       "      <th>sulphates</th>\n",
       "      <th>alcohol</th>\n",
       "      <th>quality</th>\n",
       "    </tr>\n",
       "  </thead>\n",
       "  <tbody>\n",
       "    <tr>\n",
       "      <th>0</th>\n",
       "      <td>7.4</td>\n",
       "      <td>0.280</td>\n",
       "      <td>0.30</td>\n",
       "      <td>5.3</td>\n",
       "      <td>0.054</td>\n",
       "      <td>44.0</td>\n",
       "      <td>161.0</td>\n",
       "      <td>0.99410</td>\n",
       "      <td>3.12</td>\n",
       "      <td>0.48</td>\n",
       "      <td>10.3</td>\n",
       "      <td>0</td>\n",
       "    </tr>\n",
       "    <tr>\n",
       "      <th>1</th>\n",
       "      <td>6.6</td>\n",
       "      <td>0.735</td>\n",
       "      <td>0.02</td>\n",
       "      <td>7.9</td>\n",
       "      <td>0.122</td>\n",
       "      <td>68.0</td>\n",
       "      <td>124.0</td>\n",
       "      <td>0.99940</td>\n",
       "      <td>3.47</td>\n",
       "      <td>0.53</td>\n",
       "      <td>9.9</td>\n",
       "      <td>0</td>\n",
       "    </tr>\n",
       "    <tr>\n",
       "      <th>2</th>\n",
       "      <td>6.2</td>\n",
       "      <td>0.240</td>\n",
       "      <td>0.35</td>\n",
       "      <td>1.2</td>\n",
       "      <td>0.038</td>\n",
       "      <td>22.0</td>\n",
       "      <td>167.0</td>\n",
       "      <td>0.99120</td>\n",
       "      <td>3.10</td>\n",
       "      <td>0.48</td>\n",
       "      <td>10.6</td>\n",
       "      <td>0</td>\n",
       "    </tr>\n",
       "    <tr>\n",
       "      <th>3</th>\n",
       "      <td>10.8</td>\n",
       "      <td>0.290</td>\n",
       "      <td>0.42</td>\n",
       "      <td>1.6</td>\n",
       "      <td>0.084</td>\n",
       "      <td>19.0</td>\n",
       "      <td>27.0</td>\n",
       "      <td>0.99545</td>\n",
       "      <td>3.28</td>\n",
       "      <td>0.73</td>\n",
       "      <td>11.9</td>\n",
       "      <td>0</td>\n",
       "    </tr>\n",
       "    <tr>\n",
       "      <th>4</th>\n",
       "      <td>9.4</td>\n",
       "      <td>0.240</td>\n",
       "      <td>0.33</td>\n",
       "      <td>2.3</td>\n",
       "      <td>0.061</td>\n",
       "      <td>52.0</td>\n",
       "      <td>73.0</td>\n",
       "      <td>0.99786</td>\n",
       "      <td>3.47</td>\n",
       "      <td>0.90</td>\n",
       "      <td>10.2</td>\n",
       "      <td>0</td>\n",
       "    </tr>\n",
       "  </tbody>\n",
       "</table>\n",
       "</div>"
      ],
      "text/plain": [
       "   fixed acidity  volatile acidity  citric acid  residual sugar  chlorides  \\\n",
       "0            7.4             0.280         0.30             5.3      0.054   \n",
       "1            6.6             0.735         0.02             7.9      0.122   \n",
       "2            6.2             0.240         0.35             1.2      0.038   \n",
       "3           10.8             0.290         0.42             1.6      0.084   \n",
       "4            9.4             0.240         0.33             2.3      0.061   \n",
       "\n",
       "   free sulfur dioxide  total sulfur dioxide  density    pH  sulphates  \\\n",
       "0                 44.0                 161.0  0.99410  3.12       0.48   \n",
       "1                 68.0                 124.0  0.99940  3.47       0.53   \n",
       "2                 22.0                 167.0  0.99120  3.10       0.48   \n",
       "3                 19.0                  27.0  0.99545  3.28       0.73   \n",
       "4                 52.0                  73.0  0.99786  3.47       0.90   \n",
       "\n",
       "   alcohol  quality  \n",
       "0     10.3        0  \n",
       "1      9.9        0  \n",
       "2     10.6        0  \n",
       "3     11.9        0  \n",
       "4     10.2        0  "
      ]
     },
     "metadata": {},
     "execution_count": 7
    }
   ],
   "metadata": {}
  },
  {
   "cell_type": "code",
   "execution_count": 8,
   "source": [
    "df.quality.value_counts()"
   ],
   "outputs": [
    {
     "output_type": "execute_result",
     "data": {
      "text/plain": [
       "0    5220\n",
       "1    1277\n",
       "Name: quality, dtype: int64"
      ]
     },
     "metadata": {},
     "execution_count": 8
    }
   ],
   "metadata": {}
  },
  {
   "cell_type": "code",
   "execution_count": 9,
   "source": [
    "# COACHES NOTES: This works but try a more Pythonic way like using resample() but this also works.\r\n",
    "\r\n",
    "train_quality_1 = df[df['quality'] == 1]\r\n",
    "df_final = df.append(train_quality_1).append(train_quality_1).append(train_quality_1)"
   ],
   "outputs": [],
   "metadata": {}
  },
  {
   "cell_type": "code",
   "execution_count": 10,
   "source": [
    "df_final.quality.value_counts()"
   ],
   "outputs": [
    {
     "output_type": "execute_result",
     "data": {
      "text/plain": [
       "0    5220\n",
       "1    5108\n",
       "Name: quality, dtype: int64"
      ]
     },
     "metadata": {},
     "execution_count": 10
    }
   ],
   "metadata": {}
  },
  {
   "cell_type": "code",
   "execution_count": 11,
   "source": [
    "df_final = df_final.sample(frac = 1).reset_index(drop=True)"
   ],
   "outputs": [],
   "metadata": {}
  },
  {
   "cell_type": "code",
   "execution_count": 12,
   "source": [
    "df_final.head()"
   ],
   "outputs": [
    {
     "output_type": "execute_result",
     "data": {
      "text/html": [
       "<div>\n",
       "<style scoped>\n",
       "    .dataframe tbody tr th:only-of-type {\n",
       "        vertical-align: middle;\n",
       "    }\n",
       "\n",
       "    .dataframe tbody tr th {\n",
       "        vertical-align: top;\n",
       "    }\n",
       "\n",
       "    .dataframe thead th {\n",
       "        text-align: right;\n",
       "    }\n",
       "</style>\n",
       "<table border=\"1\" class=\"dataframe\">\n",
       "  <thead>\n",
       "    <tr style=\"text-align: right;\">\n",
       "      <th></th>\n",
       "      <th>fixed acidity</th>\n",
       "      <th>volatile acidity</th>\n",
       "      <th>citric acid</th>\n",
       "      <th>residual sugar</th>\n",
       "      <th>chlorides</th>\n",
       "      <th>free sulfur dioxide</th>\n",
       "      <th>total sulfur dioxide</th>\n",
       "      <th>density</th>\n",
       "      <th>pH</th>\n",
       "      <th>sulphates</th>\n",
       "      <th>alcohol</th>\n",
       "      <th>quality</th>\n",
       "    </tr>\n",
       "  </thead>\n",
       "  <tbody>\n",
       "    <tr>\n",
       "      <th>0</th>\n",
       "      <td>6.6</td>\n",
       "      <td>0.210</td>\n",
       "      <td>0.39</td>\n",
       "      <td>2.3</td>\n",
       "      <td>0.041</td>\n",
       "      <td>31.0</td>\n",
       "      <td>102.0</td>\n",
       "      <td>0.99221</td>\n",
       "      <td>3.22</td>\n",
       "      <td>0.58</td>\n",
       "      <td>10.9</td>\n",
       "      <td>1</td>\n",
       "    </tr>\n",
       "    <tr>\n",
       "      <th>1</th>\n",
       "      <td>8.7</td>\n",
       "      <td>0.765</td>\n",
       "      <td>0.22</td>\n",
       "      <td>2.3</td>\n",
       "      <td>0.064</td>\n",
       "      <td>9.0</td>\n",
       "      <td>42.0</td>\n",
       "      <td>0.99630</td>\n",
       "      <td>3.10</td>\n",
       "      <td>0.55</td>\n",
       "      <td>9.4</td>\n",
       "      <td>0</td>\n",
       "    </tr>\n",
       "    <tr>\n",
       "      <th>2</th>\n",
       "      <td>6.3</td>\n",
       "      <td>0.320</td>\n",
       "      <td>0.35</td>\n",
       "      <td>11.1</td>\n",
       "      <td>0.039</td>\n",
       "      <td>29.0</td>\n",
       "      <td>198.0</td>\n",
       "      <td>0.99840</td>\n",
       "      <td>3.36</td>\n",
       "      <td>0.50</td>\n",
       "      <td>9.4</td>\n",
       "      <td>1</td>\n",
       "    </tr>\n",
       "    <tr>\n",
       "      <th>3</th>\n",
       "      <td>5.0</td>\n",
       "      <td>0.240</td>\n",
       "      <td>0.19</td>\n",
       "      <td>5.0</td>\n",
       "      <td>0.043</td>\n",
       "      <td>17.0</td>\n",
       "      <td>101.0</td>\n",
       "      <td>0.99438</td>\n",
       "      <td>3.67</td>\n",
       "      <td>0.57</td>\n",
       "      <td>10.0</td>\n",
       "      <td>0</td>\n",
       "    </tr>\n",
       "    <tr>\n",
       "      <th>4</th>\n",
       "      <td>7.7</td>\n",
       "      <td>0.530</td>\n",
       "      <td>0.06</td>\n",
       "      <td>1.7</td>\n",
       "      <td>0.074</td>\n",
       "      <td>9.0</td>\n",
       "      <td>39.0</td>\n",
       "      <td>0.99615</td>\n",
       "      <td>3.35</td>\n",
       "      <td>0.48</td>\n",
       "      <td>9.8</td>\n",
       "      <td>0</td>\n",
       "    </tr>\n",
       "  </tbody>\n",
       "</table>\n",
       "</div>"
      ],
      "text/plain": [
       "   fixed acidity  volatile acidity  citric acid  residual sugar  chlorides  \\\n",
       "0            6.6             0.210         0.39             2.3      0.041   \n",
       "1            8.7             0.765         0.22             2.3      0.064   \n",
       "2            6.3             0.320         0.35            11.1      0.039   \n",
       "3            5.0             0.240         0.19             5.0      0.043   \n",
       "4            7.7             0.530         0.06             1.7      0.074   \n",
       "\n",
       "   free sulfur dioxide  total sulfur dioxide  density    pH  sulphates  \\\n",
       "0                 31.0                 102.0  0.99221  3.22       0.58   \n",
       "1                  9.0                  42.0  0.99630  3.10       0.55   \n",
       "2                 29.0                 198.0  0.99840  3.36       0.50   \n",
       "3                 17.0                 101.0  0.99438  3.67       0.57   \n",
       "4                  9.0                  39.0  0.99615  3.35       0.48   \n",
       "\n",
       "   alcohol  quality  \n",
       "0     10.9        1  \n",
       "1      9.4        0  \n",
       "2      9.4        1  \n",
       "3     10.0        0  \n",
       "4      9.8        0  "
      ]
     },
     "metadata": {},
     "execution_count": 12
    }
   ],
   "metadata": {}
  },
  {
   "cell_type": "code",
   "execution_count": 13,
   "source": [
    "y = df_final.quality.values\r\n",
    "X= df_final.drop(['quality'], axis=1)"
   ],
   "outputs": [],
   "metadata": {}
  },
  {
   "cell_type": "code",
   "execution_count": 14,
   "source": [
    "X_train, X_test, y_train, y_test = train_test_split(X, y, test_size=0.2, stratify=y)"
   ],
   "outputs": [],
   "metadata": {}
  },
  {
   "cell_type": "code",
   "execution_count": 15,
   "source": [
    "from collections import Counter\r\n",
    "print(Counter(y_train))\r\n",
    "print(Counter(y_test))"
   ],
   "outputs": [
    {
     "output_type": "stream",
     "name": "stdout",
     "text": [
      "Counter({0: 4176, 1: 4086})\n",
      "Counter({0: 1044, 1: 1022})\n"
     ]
    }
   ],
   "metadata": {
    "scrolled": true
   }
  },
  {
   "cell_type": "code",
   "execution_count": 16,
   "source": [
    "print(X_train.shape)\r\n",
    "print(X_test.shape)\r\n",
    "print(y_train.shape)\r\n",
    "print(y_test.shape)"
   ],
   "outputs": [
    {
     "output_type": "stream",
     "name": "stdout",
     "text": [
      "(8262, 11)\n",
      "(2066, 11)\n",
      "(8262,)\n",
      "(2066,)\n"
     ]
    }
   ],
   "metadata": {}
  },
  {
   "cell_type": "markdown",
   "source": [
    "Creating the model"
   ],
   "metadata": {}
  },
  {
   "cell_type": "code",
   "execution_count": 17,
   "source": [
    "# COACHES NOTES: In the README make sure to give more details of what your models is. Having something like the model summary would be useful.\r\n",
    "model = Sequential([\r\n",
    "    Dense(units=30, input_shape=(11,), activation ='relu'),\r\n",
    "    Dense(units=30, activation='relu'),\r\n",
    "    Dense(units=20, activation='relu'),\r\n",
    "    Dense(units=10, activation='relu'),\r\n",
    "    Dense(units=2, activation='sigmoid')   \r\n",
    "])"
   ],
   "outputs": [
    {
     "output_type": "stream",
     "name": "stdout",
     "text": [
      "Metal device set to: Apple M1\n"
     ]
    },
    {
     "output_type": "stream",
     "name": "stderr",
     "text": [
      "2021-09-09 14:34:16.949007: I tensorflow/core/common_runtime/pluggable_device/pluggable_device_factory.cc:305] Could not identify NUMA node of platform GPU ID 0, defaulting to 0. Your kernel may not have been built with NUMA support.\n",
      "2021-09-09 14:34:16.949081: I tensorflow/core/common_runtime/pluggable_device/pluggable_device_factory.cc:271] Created TensorFlow device (/job:localhost/replica:0/task:0/device:GPU:0 with 0 MB memory) -> physical PluggableDevice (device: 0, name: METAL, pci bus id: <undefined>)\n"
     ]
    }
   ],
   "metadata": {}
  },
  {
   "cell_type": "code",
   "execution_count": 18,
   "source": [
    "model.summary()"
   ],
   "outputs": [
    {
     "output_type": "stream",
     "name": "stdout",
     "text": [
      "Model: \"sequential\"\n",
      "_________________________________________________________________\n",
      "Layer (type)                 Output Shape              Param #   \n",
      "=================================================================\n",
      "dense (Dense)                (None, 30)                360       \n",
      "_________________________________________________________________\n",
      "dense_1 (Dense)              (None, 30)                930       \n",
      "_________________________________________________________________\n",
      "dense_2 (Dense)              (None, 20)                620       \n",
      "_________________________________________________________________\n",
      "dense_3 (Dense)              (None, 10)                210       \n",
      "_________________________________________________________________\n",
      "dense_4 (Dense)              (None, 2)                 22        \n",
      "=================================================================\n",
      "Total params: 2,142\n",
      "Trainable params: 2,142\n",
      "Non-trainable params: 0\n",
      "_________________________________________________________________\n"
     ]
    }
   ],
   "metadata": {}
  },
  {
   "cell_type": "code",
   "execution_count": 19,
   "source": [
    "#COACHES NOTES: Consider a more descriptive variable name.\r\n",
    "\r\n",
    "# patient early stopping\r\n",
    "es = EarlyStopping(monitor='val_accuracy', mode='max', verbose=1, patience=50)"
   ],
   "outputs": [],
   "metadata": {}
  },
  {
   "cell_type": "code",
   "execution_count": 20,
   "source": [
    "model.compile(optimizer=Adam(learning_rate=.001), loss='sparse_categorical_crossentropy', metrics=['accuracy'])"
   ],
   "outputs": [],
   "metadata": {}
  },
  {
   "cell_type": "code",
   "execution_count": 21,
   "source": [
    "history = model.fit(X_train, y_train ,validation_split=.1,batch_size=25,epochs=300,shuffle=True, verbose=2, callbacks=[es])"
   ],
   "outputs": [
    {
     "output_type": "stream",
     "name": "stderr",
     "text": [
      "2021-09-09 14:34:17.066316: I tensorflow/compiler/mlir/mlir_graph_optimization_pass.cc:176] None of the MLIR Optimization Passes are enabled (registered 2)\n",
      "2021-09-09 14:34:17.066499: W tensorflow/core/platform/profile_utils/cpu_utils.cc:128] Failed to get CPU frequency: 0 Hz\n"
     ]
    },
    {
     "output_type": "stream",
     "name": "stdout",
     "text": [
      "Epoch 1/300\n"
     ]
    },
    {
     "output_type": "stream",
     "name": "stderr",
     "text": [
      "2021-09-09 14:34:17.183388: I tensorflow/core/grappler/optimizers/custom_graph_optimizer_registry.cc:112] Plugin optimizer for device_type GPU is enabled.\n"
     ]
    },
    {
     "output_type": "stream",
     "name": "stdout",
     "text": [
      "298/298 - 2s - loss: 0.7469 - accuracy: 0.5758 - val_loss: 0.6859 - val_accuracy: 0.5490\n"
     ]
    },
    {
     "output_type": "stream",
     "name": "stderr",
     "text": [
      "2021-09-09 14:34:18.616875: I tensorflow/core/grappler/optimizers/custom_graph_optimizer_registry.cc:112] Plugin optimizer for device_type GPU is enabled.\n"
     ]
    },
    {
     "output_type": "stream",
     "name": "stdout",
     "text": [
      "Epoch 2/300\n",
      "298/298 - 1s - loss: 0.6491 - accuracy: 0.6222 - val_loss: 0.6411 - val_accuracy: 0.6167\n",
      "Epoch 3/300\n",
      "298/298 - 1s - loss: 0.6286 - accuracy: 0.6464 - val_loss: 0.5959 - val_accuracy: 0.6796\n",
      "Epoch 4/300\n",
      "298/298 - 1s - loss: 0.6132 - accuracy: 0.6660 - val_loss: 0.5924 - val_accuracy: 0.6904\n",
      "Epoch 5/300\n",
      "298/298 - 1s - loss: 0.6051 - accuracy: 0.6749 - val_loss: 0.5765 - val_accuracy: 0.7098\n",
      "Epoch 6/300\n",
      "298/298 - 1s - loss: 0.5898 - accuracy: 0.6894 - val_loss: 0.5674 - val_accuracy: 0.7086\n",
      "Epoch 7/300\n",
      "298/298 - 1s - loss: 0.5785 - accuracy: 0.7056 - val_loss: 0.5769 - val_accuracy: 0.6917\n",
      "Epoch 8/300\n",
      "298/298 - 1s - loss: 0.5654 - accuracy: 0.7119 - val_loss: 0.5519 - val_accuracy: 0.7219\n",
      "Epoch 9/300\n",
      "298/298 - 1s - loss: 0.5539 - accuracy: 0.7227 - val_loss: 0.5524 - val_accuracy: 0.7304\n",
      "Epoch 10/300\n",
      "298/298 - 1s - loss: 0.5639 - accuracy: 0.7180 - val_loss: 0.5474 - val_accuracy: 0.7291\n",
      "Epoch 11/300\n",
      "298/298 - 1s - loss: 0.5507 - accuracy: 0.7167 - val_loss: 0.5381 - val_accuracy: 0.7279\n",
      "Epoch 12/300\n",
      "298/298 - 1s - loss: 0.5421 - accuracy: 0.7254 - val_loss: 0.5734 - val_accuracy: 0.6977\n",
      "Epoch 13/300\n",
      "298/298 - 1s - loss: 0.5357 - accuracy: 0.7353 - val_loss: 0.5203 - val_accuracy: 0.7545\n",
      "Epoch 14/300\n",
      "298/298 - 1s - loss: 0.5353 - accuracy: 0.7286 - val_loss: 0.5658 - val_accuracy: 0.6977\n",
      "Epoch 15/300\n",
      "298/298 - 1s - loss: 0.5255 - accuracy: 0.7403 - val_loss: 0.5768 - val_accuracy: 0.7231\n",
      "Epoch 16/300\n",
      "298/298 - 1s - loss: 0.5340 - accuracy: 0.7307 - val_loss: 0.5162 - val_accuracy: 0.7606\n",
      "Epoch 17/300\n",
      "298/298 - 1s - loss: 0.5211 - accuracy: 0.7406 - val_loss: 0.5083 - val_accuracy: 0.7497\n",
      "Epoch 18/300\n",
      "298/298 - 1s - loss: 0.5227 - accuracy: 0.7399 - val_loss: 0.5102 - val_accuracy: 0.7570\n",
      "Epoch 19/300\n",
      "298/298 - 1s - loss: 0.5200 - accuracy: 0.7424 - val_loss: 0.5199 - val_accuracy: 0.7449\n",
      "Epoch 20/300\n",
      "298/298 - 1s - loss: 0.5208 - accuracy: 0.7422 - val_loss: 0.5261 - val_accuracy: 0.7388\n",
      "Epoch 21/300\n",
      "298/298 - 1s - loss: 0.5169 - accuracy: 0.7455 - val_loss: 0.5183 - val_accuracy: 0.7376\n",
      "Epoch 22/300\n",
      "298/298 - 1s - loss: 0.5137 - accuracy: 0.7455 - val_loss: 0.5506 - val_accuracy: 0.7134\n",
      "Epoch 23/300\n",
      "298/298 - 1s - loss: 0.5153 - accuracy: 0.7404 - val_loss: 0.5841 - val_accuracy: 0.7304\n",
      "Epoch 24/300\n",
      "298/298 - 1s - loss: 0.5190 - accuracy: 0.7424 - val_loss: 0.5169 - val_accuracy: 0.7424\n",
      "Epoch 25/300\n",
      "298/298 - 1s - loss: 0.5127 - accuracy: 0.7449 - val_loss: 0.5180 - val_accuracy: 0.7364\n",
      "Epoch 26/300\n",
      "298/298 - 1s - loss: 0.5200 - accuracy: 0.7407 - val_loss: 0.5548 - val_accuracy: 0.7158\n",
      "Epoch 27/300\n",
      "298/298 - 1s - loss: 0.5106 - accuracy: 0.7454 - val_loss: 0.5096 - val_accuracy: 0.7497\n",
      "Epoch 28/300\n",
      "298/298 - 1s - loss: 0.5021 - accuracy: 0.7505 - val_loss: 0.5302 - val_accuracy: 0.7400\n",
      "Epoch 29/300\n",
      "298/298 - 1s - loss: 0.5048 - accuracy: 0.7513 - val_loss: 0.6280 - val_accuracy: 0.6542\n",
      "Epoch 30/300\n",
      "298/298 - 1s - loss: 0.5112 - accuracy: 0.7449 - val_loss: 0.5174 - val_accuracy: 0.7364\n",
      "Epoch 31/300\n",
      "298/298 - 1s - loss: 0.5068 - accuracy: 0.7485 - val_loss: 0.5193 - val_accuracy: 0.7412\n",
      "Epoch 32/300\n",
      "298/298 - 1s - loss: 0.5019 - accuracy: 0.7567 - val_loss: 0.5793 - val_accuracy: 0.6880\n",
      "Epoch 33/300\n",
      "298/298 - 1s - loss: 0.5005 - accuracy: 0.7551 - val_loss: 0.5077 - val_accuracy: 0.7424\n",
      "Epoch 34/300\n",
      "298/298 - 1s - loss: 0.4994 - accuracy: 0.7532 - val_loss: 0.5095 - val_accuracy: 0.7485\n",
      "Epoch 35/300\n",
      "298/298 - 1s - loss: 0.5064 - accuracy: 0.7479 - val_loss: 0.4960 - val_accuracy: 0.7521\n",
      "Epoch 36/300\n",
      "298/298 - 1s - loss: 0.4925 - accuracy: 0.7555 - val_loss: 0.5060 - val_accuracy: 0.7570\n",
      "Epoch 37/300\n",
      "298/298 - 1s - loss: 0.4908 - accuracy: 0.7605 - val_loss: 0.5176 - val_accuracy: 0.7473\n",
      "Epoch 38/300\n",
      "298/298 - 1s - loss: 0.4933 - accuracy: 0.7595 - val_loss: 0.5388 - val_accuracy: 0.7461\n",
      "Epoch 39/300\n",
      "298/298 - 1s - loss: 0.4907 - accuracy: 0.7575 - val_loss: 0.4981 - val_accuracy: 0.7630\n",
      "Epoch 40/300\n",
      "298/298 - 1s - loss: 0.4921 - accuracy: 0.7560 - val_loss: 0.5058 - val_accuracy: 0.7533\n",
      "Epoch 41/300\n",
      "298/298 - 1s - loss: 0.4873 - accuracy: 0.7611 - val_loss: 0.5042 - val_accuracy: 0.7437\n",
      "Epoch 42/300\n",
      "298/298 - 1s - loss: 0.4878 - accuracy: 0.7653 - val_loss: 0.5047 - val_accuracy: 0.7412\n",
      "Epoch 43/300\n",
      "298/298 - 1s - loss: 0.4844 - accuracy: 0.7634 - val_loss: 0.5100 - val_accuracy: 0.7364\n",
      "Epoch 44/300\n",
      "298/298 - 1s - loss: 0.4980 - accuracy: 0.7541 - val_loss: 0.4886 - val_accuracy: 0.7545\n",
      "Epoch 45/300\n",
      "298/298 - 1s - loss: 0.4823 - accuracy: 0.7641 - val_loss: 0.4969 - val_accuracy: 0.7570\n",
      "Epoch 46/300\n",
      "298/298 - 1s - loss: 0.4853 - accuracy: 0.7638 - val_loss: 0.5024 - val_accuracy: 0.7545\n",
      "Epoch 47/300\n",
      "298/298 - 1s - loss: 0.4886 - accuracy: 0.7627 - val_loss: 0.5150 - val_accuracy: 0.7497\n",
      "Epoch 48/300\n",
      "298/298 - 1s - loss: 0.4806 - accuracy: 0.7648 - val_loss: 0.4867 - val_accuracy: 0.7545\n",
      "Epoch 49/300\n",
      "298/298 - 1s - loss: 0.4781 - accuracy: 0.7691 - val_loss: 0.5191 - val_accuracy: 0.7316\n",
      "Epoch 50/300\n",
      "298/298 - 1s - loss: 0.4833 - accuracy: 0.7629 - val_loss: 0.4823 - val_accuracy: 0.7630\n",
      "Epoch 51/300\n",
      "298/298 - 1s - loss: 0.4755 - accuracy: 0.7677 - val_loss: 0.4901 - val_accuracy: 0.7630\n",
      "Epoch 52/300\n",
      "298/298 - 1s - loss: 0.4746 - accuracy: 0.7692 - val_loss: 0.5180 - val_accuracy: 0.7400\n",
      "Epoch 53/300\n",
      "298/298 - 1s - loss: 0.4747 - accuracy: 0.7744 - val_loss: 0.5320 - val_accuracy: 0.7219\n",
      "Epoch 54/300\n",
      "298/298 - 1s - loss: 0.4775 - accuracy: 0.7679 - val_loss: 0.4921 - val_accuracy: 0.7509\n",
      "Epoch 55/300\n",
      "298/298 - 1s - loss: 0.4748 - accuracy: 0.7680 - val_loss: 0.4843 - val_accuracy: 0.7727\n",
      "Epoch 56/300\n",
      "298/298 - 1s - loss: 0.4690 - accuracy: 0.7712 - val_loss: 0.4879 - val_accuracy: 0.7606\n",
      "Epoch 57/300\n",
      "298/298 - 1s - loss: 0.4704 - accuracy: 0.7696 - val_loss: 0.4878 - val_accuracy: 0.7509\n",
      "Epoch 58/300\n",
      "298/298 - 1s - loss: 0.4681 - accuracy: 0.7691 - val_loss: 0.4769 - val_accuracy: 0.7727\n",
      "Epoch 59/300\n",
      "298/298 - 1s - loss: 0.4744 - accuracy: 0.7708 - val_loss: 0.4927 - val_accuracy: 0.7654\n",
      "Epoch 60/300\n",
      "298/298 - 1s - loss: 0.4672 - accuracy: 0.7727 - val_loss: 0.4822 - val_accuracy: 0.7618\n",
      "Epoch 61/300\n",
      "298/298 - 1s - loss: 0.4661 - accuracy: 0.7770 - val_loss: 0.4888 - val_accuracy: 0.7582\n",
      "Epoch 62/300\n",
      "298/298 - 1s - loss: 0.4709 - accuracy: 0.7751 - val_loss: 0.4852 - val_accuracy: 0.7594\n",
      "Epoch 63/300\n",
      "298/298 - 1s - loss: 0.4638 - accuracy: 0.7771 - val_loss: 0.5042 - val_accuracy: 0.7509\n",
      "Epoch 64/300\n",
      "298/298 - 1s - loss: 0.4607 - accuracy: 0.7781 - val_loss: 0.4918 - val_accuracy: 0.7497\n",
      "Epoch 65/300\n",
      "298/298 - 1s - loss: 0.4627 - accuracy: 0.7778 - val_loss: 0.5081 - val_accuracy: 0.7582\n",
      "Epoch 66/300\n",
      "298/298 - 1s - loss: 0.4598 - accuracy: 0.7761 - val_loss: 0.4752 - val_accuracy: 0.7570\n",
      "Epoch 67/300\n",
      "298/298 - 1s - loss: 0.4604 - accuracy: 0.7746 - val_loss: 0.4754 - val_accuracy: 0.7678\n",
      "Epoch 68/300\n",
      "298/298 - 1s - loss: 0.4595 - accuracy: 0.7825 - val_loss: 0.4925 - val_accuracy: 0.7570\n",
      "Epoch 69/300\n",
      "298/298 - 1s - loss: 0.4623 - accuracy: 0.7753 - val_loss: 0.4847 - val_accuracy: 0.7545\n",
      "Epoch 70/300\n",
      "298/298 - 1s - loss: 0.4574 - accuracy: 0.7785 - val_loss: 0.4786 - val_accuracy: 0.7654\n",
      "Epoch 71/300\n",
      "298/298 - 1s - loss: 0.4567 - accuracy: 0.7789 - val_loss: 0.4758 - val_accuracy: 0.7654\n",
      "Epoch 72/300\n",
      "298/298 - 1s - loss: 0.4600 - accuracy: 0.7773 - val_loss: 0.5035 - val_accuracy: 0.7557\n",
      "Epoch 73/300\n",
      "298/298 - 1s - loss: 0.4541 - accuracy: 0.7831 - val_loss: 0.4687 - val_accuracy: 0.7739\n",
      "Epoch 74/300\n",
      "298/298 - 1s - loss: 0.4569 - accuracy: 0.7773 - val_loss: 0.4735 - val_accuracy: 0.7582\n",
      "Epoch 75/300\n",
      "298/298 - 1s - loss: 0.4585 - accuracy: 0.7818 - val_loss: 0.4852 - val_accuracy: 0.7594\n",
      "Epoch 76/300\n",
      "298/298 - 1s - loss: 0.4458 - accuracy: 0.7902 - val_loss: 0.4935 - val_accuracy: 0.7606\n",
      "Epoch 77/300\n",
      "298/298 - 1s - loss: 0.4525 - accuracy: 0.7847 - val_loss: 0.4595 - val_accuracy: 0.7836\n",
      "Epoch 78/300\n",
      "298/298 - 1s - loss: 0.4495 - accuracy: 0.7801 - val_loss: 0.4733 - val_accuracy: 0.7751\n",
      "Epoch 79/300\n",
      "298/298 - 1s - loss: 0.4520 - accuracy: 0.7849 - val_loss: 0.4802 - val_accuracy: 0.7570\n",
      "Epoch 80/300\n",
      "298/298 - 1s - loss: 0.4470 - accuracy: 0.7836 - val_loss: 0.4693 - val_accuracy: 0.7703\n",
      "Epoch 81/300\n",
      "298/298 - 1s - loss: 0.4481 - accuracy: 0.7847 - val_loss: 0.4910 - val_accuracy: 0.7630\n",
      "Epoch 82/300\n",
      "298/298 - 1s - loss: 0.4469 - accuracy: 0.7853 - val_loss: 0.4809 - val_accuracy: 0.7739\n"
     ]
    },
    {
     "output_type": "stream",
     "name": "stdout",
     "text": [
      "Epoch 83/300\n",
      "298/298 - 1s - loss: 0.4497 - accuracy: 0.7857 - val_loss: 0.5310 - val_accuracy: 0.7400\n",
      "Epoch 84/300\n",
      "298/298 - 1s - loss: 0.4449 - accuracy: 0.7857 - val_loss: 0.4968 - val_accuracy: 0.7582\n",
      "Epoch 85/300\n",
      "298/298 - 1s - loss: 0.4436 - accuracy: 0.7890 - val_loss: 0.4731 - val_accuracy: 0.7811\n",
      "Epoch 86/300\n",
      "298/298 - 1s - loss: 0.4426 - accuracy: 0.7870 - val_loss: 0.4726 - val_accuracy: 0.7690\n",
      "Epoch 87/300\n",
      "298/298 - 1s - loss: 0.4415 - accuracy: 0.7892 - val_loss: 0.4581 - val_accuracy: 0.7811\n",
      "Epoch 88/300\n",
      "298/298 - 1s - loss: 0.4437 - accuracy: 0.7878 - val_loss: 0.4852 - val_accuracy: 0.7703\n",
      "Epoch 89/300\n",
      "298/298 - 1s - loss: 0.4451 - accuracy: 0.7847 - val_loss: 0.4584 - val_accuracy: 0.7787\n",
      "Epoch 90/300\n",
      "298/298 - 1s - loss: 0.4422 - accuracy: 0.7866 - val_loss: 0.4848 - val_accuracy: 0.7606\n",
      "Epoch 91/300\n",
      "298/298 - 1s - loss: 0.4443 - accuracy: 0.7876 - val_loss: 0.4797 - val_accuracy: 0.7715\n",
      "Epoch 92/300\n",
      "298/298 - 1s - loss: 0.4338 - accuracy: 0.7929 - val_loss: 0.4663 - val_accuracy: 0.7751\n",
      "Epoch 93/300\n",
      "298/298 - 1s - loss: 0.4392 - accuracy: 0.7900 - val_loss: 0.4856 - val_accuracy: 0.7739\n",
      "Epoch 94/300\n",
      "298/298 - 1s - loss: 0.4400 - accuracy: 0.7886 - val_loss: 0.4748 - val_accuracy: 0.7654\n",
      "Epoch 95/300\n",
      "298/298 - 1s - loss: 0.4384 - accuracy: 0.7900 - val_loss: 0.4599 - val_accuracy: 0.7630\n",
      "Epoch 96/300\n",
      "298/298 - 1s - loss: 0.4366 - accuracy: 0.7935 - val_loss: 0.4566 - val_accuracy: 0.7787\n",
      "Epoch 97/300\n",
      "298/298 - 1s - loss: 0.4311 - accuracy: 0.7961 - val_loss: 0.4635 - val_accuracy: 0.7666\n",
      "Epoch 98/300\n",
      "298/298 - 1s - loss: 0.4423 - accuracy: 0.7903 - val_loss: 0.4951 - val_accuracy: 0.7582\n",
      "Epoch 99/300\n",
      "298/298 - 1s - loss: 0.4470 - accuracy: 0.7863 - val_loss: 0.4604 - val_accuracy: 0.7787\n",
      "Epoch 100/300\n",
      "298/298 - 1s - loss: 0.4436 - accuracy: 0.7937 - val_loss: 0.4490 - val_accuracy: 0.7920\n",
      "Epoch 101/300\n",
      "298/298 - 1s - loss: 0.4310 - accuracy: 0.7941 - val_loss: 0.4743 - val_accuracy: 0.7678\n",
      "Epoch 102/300\n",
      "298/298 - 1s - loss: 0.4323 - accuracy: 0.7941 - val_loss: 0.4514 - val_accuracy: 0.7775\n",
      "Epoch 103/300\n",
      "298/298 - 1s - loss: 0.4380 - accuracy: 0.7907 - val_loss: 0.4901 - val_accuracy: 0.7642\n",
      "Epoch 104/300\n",
      "298/298 - 1s - loss: 0.4337 - accuracy: 0.7964 - val_loss: 0.4441 - val_accuracy: 0.7727\n",
      "Epoch 105/300\n",
      "298/298 - 1s - loss: 0.4398 - accuracy: 0.7914 - val_loss: 0.4957 - val_accuracy: 0.7630\n",
      "Epoch 106/300\n",
      "298/298 - 1s - loss: 0.4320 - accuracy: 0.7972 - val_loss: 0.4443 - val_accuracy: 0.7836\n",
      "Epoch 107/300\n",
      "298/298 - 1s - loss: 0.4296 - accuracy: 0.8008 - val_loss: 0.4506 - val_accuracy: 0.7763\n",
      "Epoch 108/300\n",
      "298/298 - 1s - loss: 0.4333 - accuracy: 0.7917 - val_loss: 0.4516 - val_accuracy: 0.7823\n",
      "Epoch 109/300\n",
      "298/298 - 1s - loss: 0.4339 - accuracy: 0.7945 - val_loss: 0.4642 - val_accuracy: 0.7811\n",
      "Epoch 110/300\n",
      "298/298 - 1s - loss: 0.4247 - accuracy: 0.8034 - val_loss: 0.4529 - val_accuracy: 0.7836\n",
      "Epoch 111/300\n",
      "298/298 - 1s - loss: 0.4237 - accuracy: 0.8011 - val_loss: 0.4754 - val_accuracy: 0.7533\n",
      "Epoch 112/300\n",
      "298/298 - 1s - loss: 0.4283 - accuracy: 0.7974 - val_loss: 0.5016 - val_accuracy: 0.7424\n",
      "Epoch 113/300\n",
      "298/298 - 1s - loss: 0.4244 - accuracy: 0.7976 - val_loss: 0.4671 - val_accuracy: 0.7642\n",
      "Epoch 114/300\n",
      "298/298 - 1s - loss: 0.4259 - accuracy: 0.8019 - val_loss: 0.4984 - val_accuracy: 0.7545\n",
      "Epoch 115/300\n",
      "298/298 - 1s - loss: 0.4291 - accuracy: 0.7981 - val_loss: 0.4527 - val_accuracy: 0.7872\n",
      "Epoch 116/300\n",
      "298/298 - 1s - loss: 0.4289 - accuracy: 0.7976 - val_loss: 0.4993 - val_accuracy: 0.7545\n",
      "Epoch 117/300\n",
      "298/298 - 1s - loss: 0.4201 - accuracy: 0.8022 - val_loss: 0.4960 - val_accuracy: 0.7739\n",
      "Epoch 118/300\n",
      "298/298 - 1s - loss: 0.4217 - accuracy: 0.7991 - val_loss: 0.4452 - val_accuracy: 0.7944\n",
      "Epoch 119/300\n",
      "298/298 - 1s - loss: 0.4256 - accuracy: 0.7993 - val_loss: 0.4769 - val_accuracy: 0.7763\n",
      "Epoch 120/300\n",
      "298/298 - 1s - loss: 0.4225 - accuracy: 0.8011 - val_loss: 0.4905 - val_accuracy: 0.7654\n",
      "Epoch 121/300\n",
      "298/298 - 1s - loss: 0.4200 - accuracy: 0.8034 - val_loss: 0.5060 - val_accuracy: 0.7630\n",
      "Epoch 122/300\n",
      "298/298 - 1s - loss: 0.4151 - accuracy: 0.8036 - val_loss: 0.4420 - val_accuracy: 0.7920\n",
      "Epoch 123/300\n",
      "298/298 - 1s - loss: 0.4161 - accuracy: 0.8011 - val_loss: 0.4450 - val_accuracy: 0.7872\n",
      "Epoch 124/300\n",
      "298/298 - 1s - loss: 0.4211 - accuracy: 0.8015 - val_loss: 0.4732 - val_accuracy: 0.7642\n",
      "Epoch 125/300\n",
      "298/298 - 1s - loss: 0.4180 - accuracy: 0.8046 - val_loss: 0.4690 - val_accuracy: 0.7739\n",
      "Epoch 126/300\n",
      "298/298 - 1s - loss: 0.4242 - accuracy: 0.7996 - val_loss: 0.4453 - val_accuracy: 0.7823\n",
      "Epoch 127/300\n",
      "298/298 - 1s - loss: 0.4175 - accuracy: 0.8027 - val_loss: 0.4699 - val_accuracy: 0.7703\n",
      "Epoch 128/300\n",
      "298/298 - 1s - loss: 0.4149 - accuracy: 0.8087 - val_loss: 0.4557 - val_accuracy: 0.7654\n",
      "Epoch 129/300\n",
      "298/298 - 1s - loss: 0.4140 - accuracy: 0.8082 - val_loss: 0.4670 - val_accuracy: 0.7690\n",
      "Epoch 130/300\n",
      "298/298 - 1s - loss: 0.4201 - accuracy: 0.7999 - val_loss: 0.4471 - val_accuracy: 0.7896\n",
      "Epoch 131/300\n",
      "298/298 - 1s - loss: 0.4125 - accuracy: 0.8101 - val_loss: 0.4598 - val_accuracy: 0.7678\n",
      "Epoch 132/300\n",
      "298/298 - 1s - loss: 0.4170 - accuracy: 0.8056 - val_loss: 0.4456 - val_accuracy: 0.7799\n",
      "Epoch 133/300\n",
      "298/298 - 1s - loss: 0.4092 - accuracy: 0.8066 - val_loss: 0.4476 - val_accuracy: 0.7860\n",
      "Epoch 134/300\n",
      "298/298 - 1s - loss: 0.4157 - accuracy: 0.8034 - val_loss: 0.4565 - val_accuracy: 0.7715\n",
      "Epoch 135/300\n",
      "298/298 - 1s - loss: 0.4163 - accuracy: 0.8043 - val_loss: 0.4931 - val_accuracy: 0.7860\n",
      "Epoch 136/300\n",
      "298/298 - 1s - loss: 0.4099 - accuracy: 0.8093 - val_loss: 0.4406 - val_accuracy: 0.7956\n",
      "Epoch 137/300\n",
      "298/298 - 1s - loss: 0.4157 - accuracy: 0.8032 - val_loss: 0.4512 - val_accuracy: 0.7811\n",
      "Epoch 138/300\n",
      "298/298 - 1s - loss: 0.4102 - accuracy: 0.8065 - val_loss: 0.4584 - val_accuracy: 0.7763\n",
      "Epoch 139/300\n",
      "298/298 - 1s - loss: 0.4088 - accuracy: 0.8082 - val_loss: 0.4565 - val_accuracy: 0.7727\n",
      "Epoch 140/300\n",
      "298/298 - 1s - loss: 0.4132 - accuracy: 0.8065 - val_loss: 0.4586 - val_accuracy: 0.7896\n",
      "Epoch 141/300\n",
      "298/298 - 1s - loss: 0.4097 - accuracy: 0.8081 - val_loss: 0.4343 - val_accuracy: 0.8005\n",
      "Epoch 142/300\n",
      "298/298 - 1s - loss: 0.4204 - accuracy: 0.8019 - val_loss: 0.4681 - val_accuracy: 0.7678\n",
      "Epoch 143/300\n",
      "298/298 - 1s - loss: 0.4168 - accuracy: 0.8024 - val_loss: 0.4605 - val_accuracy: 0.7860\n",
      "Epoch 144/300\n",
      "298/298 - 1s - loss: 0.4120 - accuracy: 0.8026 - val_loss: 0.4380 - val_accuracy: 0.7956\n",
      "Epoch 145/300\n",
      "298/298 - 1s - loss: 0.4115 - accuracy: 0.8128 - val_loss: 0.4697 - val_accuracy: 0.7787\n",
      "Epoch 146/300\n",
      "298/298 - 1s - loss: 0.4066 - accuracy: 0.8074 - val_loss: 0.4803 - val_accuracy: 0.7860\n",
      "Epoch 147/300\n",
      "298/298 - 1s - loss: 0.4064 - accuracy: 0.8143 - val_loss: 0.4565 - val_accuracy: 0.7739\n",
      "Epoch 148/300\n",
      "298/298 - 1s - loss: 0.4037 - accuracy: 0.8130 - val_loss: 0.4499 - val_accuracy: 0.7751\n",
      "Epoch 149/300\n",
      "298/298 - 1s - loss: 0.4050 - accuracy: 0.8085 - val_loss: 0.4377 - val_accuracy: 0.7993\n",
      "Epoch 150/300\n",
      "298/298 - 1s - loss: 0.4040 - accuracy: 0.8073 - val_loss: 0.4312 - val_accuracy: 0.7993\n",
      "Epoch 151/300\n",
      "298/298 - 1s - loss: 0.4044 - accuracy: 0.8083 - val_loss: 0.4690 - val_accuracy: 0.7703\n",
      "Epoch 152/300\n",
      "298/298 - 1s - loss: 0.4103 - accuracy: 0.8017 - val_loss: 0.4634 - val_accuracy: 0.7751\n",
      "Epoch 153/300\n",
      "298/298 - 1s - loss: 0.4049 - accuracy: 0.8102 - val_loss: 0.4566 - val_accuracy: 0.7751\n",
      "Epoch 154/300\n",
      "298/298 - 1s - loss: 0.4075 - accuracy: 0.8065 - val_loss: 0.4514 - val_accuracy: 0.7703\n",
      "Epoch 155/300\n",
      "298/298 - 1s - loss: 0.4091 - accuracy: 0.8058 - val_loss: 0.4728 - val_accuracy: 0.7666\n",
      "Epoch 156/300\n",
      "298/298 - 1s - loss: 0.4087 - accuracy: 0.8101 - val_loss: 0.4453 - val_accuracy: 0.7811\n",
      "Epoch 157/300\n",
      "298/298 - 1s - loss: 0.3992 - accuracy: 0.8167 - val_loss: 0.4799 - val_accuracy: 0.7666\n",
      "Epoch 158/300\n",
      "298/298 - 1s - loss: 0.4019 - accuracy: 0.8117 - val_loss: 0.4487 - val_accuracy: 0.7908\n",
      "Epoch 159/300\n",
      "298/298 - 1s - loss: 0.3991 - accuracy: 0.8124 - val_loss: 0.4413 - val_accuracy: 0.7896\n",
      "Epoch 160/300\n",
      "298/298 - 1s - loss: 0.4036 - accuracy: 0.8075 - val_loss: 0.4529 - val_accuracy: 0.7823\n",
      "Epoch 161/300\n",
      "298/298 - 1s - loss: 0.4086 - accuracy: 0.8104 - val_loss: 0.4626 - val_accuracy: 0.7739\n",
      "Epoch 162/300\n",
      "298/298 - 1s - loss: 0.3961 - accuracy: 0.8171 - val_loss: 0.4545 - val_accuracy: 0.7836\n"
     ]
    },
    {
     "output_type": "stream",
     "name": "stdout",
     "text": [
      "Epoch 163/300\n",
      "298/298 - 1s - loss: 0.3916 - accuracy: 0.8219 - val_loss: 0.4384 - val_accuracy: 0.7932\n",
      "Epoch 164/300\n",
      "298/298 - 1s - loss: 0.3959 - accuracy: 0.8188 - val_loss: 0.4469 - val_accuracy: 0.7920\n",
      "Epoch 165/300\n",
      "298/298 - 1s - loss: 0.4008 - accuracy: 0.8121 - val_loss: 0.4302 - val_accuracy: 0.7969\n",
      "Epoch 166/300\n",
      "298/298 - 1s - loss: 0.3936 - accuracy: 0.8161 - val_loss: 0.4779 - val_accuracy: 0.7811\n",
      "Epoch 167/300\n",
      "298/298 - 1s - loss: 0.3971 - accuracy: 0.8128 - val_loss: 0.4397 - val_accuracy: 0.7981\n",
      "Epoch 168/300\n",
      "298/298 - 1s - loss: 0.3992 - accuracy: 0.8128 - val_loss: 0.4387 - val_accuracy: 0.7799\n",
      "Epoch 169/300\n",
      "298/298 - 1s - loss: 0.4020 - accuracy: 0.8109 - val_loss: 0.4504 - val_accuracy: 0.7836\n",
      "Epoch 170/300\n",
      "298/298 - 1s - loss: 0.4040 - accuracy: 0.8083 - val_loss: 0.4571 - val_accuracy: 0.7739\n",
      "Epoch 171/300\n",
      "298/298 - 1s - loss: 0.3992 - accuracy: 0.8165 - val_loss: 0.4409 - val_accuracy: 0.7908\n",
      "Epoch 172/300\n",
      "298/298 - 1s - loss: 0.3853 - accuracy: 0.8186 - val_loss: 0.4401 - val_accuracy: 0.7908\n",
      "Epoch 173/300\n",
      "298/298 - 1s - loss: 0.3902 - accuracy: 0.8183 - val_loss: 0.4533 - val_accuracy: 0.7908\n",
      "Epoch 174/300\n",
      "298/298 - 1s - loss: 0.4033 - accuracy: 0.8106 - val_loss: 0.4513 - val_accuracy: 0.7848\n",
      "Epoch 175/300\n",
      "298/298 - 1s - loss: 0.3970 - accuracy: 0.8140 - val_loss: 0.4440 - val_accuracy: 0.7896\n",
      "Epoch 176/300\n",
      "298/298 - 1s - loss: 0.3845 - accuracy: 0.8241 - val_loss: 0.4363 - val_accuracy: 0.7956\n",
      "Epoch 177/300\n",
      "298/298 - 1s - loss: 0.3943 - accuracy: 0.8151 - val_loss: 0.4652 - val_accuracy: 0.7848\n",
      "Epoch 178/300\n",
      "298/298 - 1s - loss: 0.3930 - accuracy: 0.8184 - val_loss: 0.4392 - val_accuracy: 0.7811\n",
      "Epoch 179/300\n",
      "298/298 - 1s - loss: 0.4011 - accuracy: 0.8141 - val_loss: 0.4580 - val_accuracy: 0.7727\n",
      "Epoch 180/300\n",
      "298/298 - 1s - loss: 0.3926 - accuracy: 0.8176 - val_loss: 0.4421 - val_accuracy: 0.7969\n",
      "Epoch 181/300\n",
      "298/298 - 1s - loss: 0.3889 - accuracy: 0.8157 - val_loss: 0.5035 - val_accuracy: 0.7473\n",
      "Epoch 182/300\n",
      "298/298 - 1s - loss: 0.3909 - accuracy: 0.8176 - val_loss: 0.4678 - val_accuracy: 0.7811\n",
      "Epoch 183/300\n",
      "298/298 - 1s - loss: 0.3898 - accuracy: 0.8196 - val_loss: 0.4292 - val_accuracy: 0.8005\n",
      "Epoch 184/300\n",
      "298/298 - 1s - loss: 0.4003 - accuracy: 0.8094 - val_loss: 0.4529 - val_accuracy: 0.7981\n",
      "Epoch 185/300\n",
      "298/298 - 1s - loss: 0.3928 - accuracy: 0.8163 - val_loss: 0.4593 - val_accuracy: 0.7763\n",
      "Epoch 186/300\n",
      "298/298 - 1s - loss: 0.3904 - accuracy: 0.8203 - val_loss: 0.4880 - val_accuracy: 0.7678\n",
      "Epoch 187/300\n",
      "298/298 - 1s - loss: 0.4007 - accuracy: 0.8129 - val_loss: 0.4437 - val_accuracy: 0.7884\n",
      "Epoch 188/300\n",
      "298/298 - 1s - loss: 0.3913 - accuracy: 0.8171 - val_loss: 0.4448 - val_accuracy: 0.8017\n",
      "Epoch 189/300\n",
      "298/298 - 1s - loss: 0.3922 - accuracy: 0.8141 - val_loss: 0.4470 - val_accuracy: 0.7920\n",
      "Epoch 190/300\n",
      "298/298 - 1s - loss: 0.3880 - accuracy: 0.8165 - val_loss: 0.4364 - val_accuracy: 0.7944\n",
      "Epoch 191/300\n",
      "298/298 - 1s - loss: 0.3854 - accuracy: 0.8165 - val_loss: 0.4461 - val_accuracy: 0.7860\n",
      "Epoch 192/300\n",
      "298/298 - 1s - loss: 0.3859 - accuracy: 0.8200 - val_loss: 0.4258 - val_accuracy: 0.8017\n",
      "Epoch 193/300\n",
      "298/298 - 1s - loss: 0.3892 - accuracy: 0.8161 - val_loss: 0.4874 - val_accuracy: 0.7678\n",
      "Epoch 194/300\n",
      "298/298 - 1s - loss: 0.3939 - accuracy: 0.8128 - val_loss: 0.4508 - val_accuracy: 0.7836\n",
      "Epoch 195/300\n",
      "298/298 - 1s - loss: 0.3814 - accuracy: 0.8191 - val_loss: 0.4120 - val_accuracy: 0.7993\n",
      "Epoch 196/300\n",
      "298/298 - 1s - loss: 0.3871 - accuracy: 0.8196 - val_loss: 0.4761 - val_accuracy: 0.7678\n",
      "Epoch 197/300\n",
      "298/298 - 1s - loss: 0.3872 - accuracy: 0.8195 - val_loss: 0.4467 - val_accuracy: 0.8005\n",
      "Epoch 198/300\n",
      "298/298 - 1s - loss: 0.3898 - accuracy: 0.8194 - val_loss: 0.4277 - val_accuracy: 0.7993\n",
      "Epoch 199/300\n",
      "298/298 - 1s - loss: 0.3890 - accuracy: 0.8152 - val_loss: 0.4831 - val_accuracy: 0.7787\n",
      "Epoch 200/300\n",
      "298/298 - 1s - loss: 0.3930 - accuracy: 0.8157 - val_loss: 0.4440 - val_accuracy: 0.7799\n",
      "Epoch 201/300\n",
      "298/298 - 1s - loss: 0.3776 - accuracy: 0.8260 - val_loss: 0.4284 - val_accuracy: 0.8041\n",
      "Epoch 202/300\n",
      "298/298 - 1s - loss: 0.3910 - accuracy: 0.8143 - val_loss: 0.4404 - val_accuracy: 0.8005\n",
      "Epoch 203/300\n",
      "298/298 - 1s - loss: 0.3925 - accuracy: 0.8168 - val_loss: 0.4695 - val_accuracy: 0.7884\n",
      "Epoch 204/300\n",
      "298/298 - 1s - loss: 0.3884 - accuracy: 0.8136 - val_loss: 0.4506 - val_accuracy: 0.7823\n",
      "Epoch 205/300\n",
      "298/298 - 1s - loss: 0.3819 - accuracy: 0.8227 - val_loss: 0.4460 - val_accuracy: 0.7956\n",
      "Epoch 206/300\n",
      "298/298 - 1s - loss: 0.3896 - accuracy: 0.8130 - val_loss: 0.4458 - val_accuracy: 0.7956\n",
      "Epoch 207/300\n",
      "298/298 - 1s - loss: 0.3819 - accuracy: 0.8218 - val_loss: 0.4441 - val_accuracy: 0.7908\n",
      "Epoch 208/300\n",
      "298/298 - 1s - loss: 0.3838 - accuracy: 0.8239 - val_loss: 0.4255 - val_accuracy: 0.8053\n",
      "Epoch 209/300\n",
      "298/298 - 1s - loss: 0.3908 - accuracy: 0.8167 - val_loss: 0.4159 - val_accuracy: 0.8017\n",
      "Epoch 210/300\n",
      "298/298 - 1s - loss: 0.3813 - accuracy: 0.8231 - val_loss: 0.4807 - val_accuracy: 0.7678\n",
      "Epoch 211/300\n",
      "298/298 - 1s - loss: 0.3769 - accuracy: 0.8227 - val_loss: 0.4176 - val_accuracy: 0.8065\n",
      "Epoch 212/300\n",
      "298/298 - 1s - loss: 0.3785 - accuracy: 0.8226 - val_loss: 0.4360 - val_accuracy: 0.7981\n",
      "Epoch 213/300\n",
      "298/298 - 1s - loss: 0.3823 - accuracy: 0.8207 - val_loss: 0.4845 - val_accuracy: 0.7618\n",
      "Epoch 214/300\n",
      "298/298 - 1s - loss: 0.3718 - accuracy: 0.8297 - val_loss: 0.4859 - val_accuracy: 0.7751\n",
      "Epoch 215/300\n",
      "298/298 - 1s - loss: 0.3972 - accuracy: 0.8125 - val_loss: 0.4743 - val_accuracy: 0.7932\n",
      "Epoch 216/300\n",
      "298/298 - 1s - loss: 0.3935 - accuracy: 0.8176 - val_loss: 0.4439 - val_accuracy: 0.7908\n",
      "Epoch 217/300\n",
      "298/298 - 1s - loss: 0.3846 - accuracy: 0.8180 - val_loss: 0.4113 - val_accuracy: 0.8102\n",
      "Epoch 218/300\n",
      "298/298 - 1s - loss: 0.3772 - accuracy: 0.8254 - val_loss: 0.4436 - val_accuracy: 0.7944\n",
      "Epoch 219/300\n",
      "298/298 - 1s - loss: 0.3798 - accuracy: 0.8214 - val_loss: 0.4258 - val_accuracy: 0.7956\n",
      "Epoch 220/300\n",
      "298/298 - 1s - loss: 0.3790 - accuracy: 0.8235 - val_loss: 0.4305 - val_accuracy: 0.8150\n",
      "Epoch 221/300\n",
      "298/298 - 1s - loss: 0.3869 - accuracy: 0.8168 - val_loss: 0.4535 - val_accuracy: 0.7920\n",
      "Epoch 222/300\n",
      "298/298 - 1s - loss: 0.3866 - accuracy: 0.8167 - val_loss: 0.4253 - val_accuracy: 0.8065\n",
      "Epoch 223/300\n",
      "298/298 - 1s - loss: 0.3795 - accuracy: 0.8219 - val_loss: 0.4238 - val_accuracy: 0.8077\n",
      "Epoch 224/300\n",
      "298/298 - 1s - loss: 0.3718 - accuracy: 0.8260 - val_loss: 0.4459 - val_accuracy: 0.7908\n",
      "Epoch 225/300\n",
      "298/298 - 1s - loss: 0.3741 - accuracy: 0.8245 - val_loss: 0.4468 - val_accuracy: 0.7872\n",
      "Epoch 226/300\n",
      "298/298 - 1s - loss: 0.3805 - accuracy: 0.8227 - val_loss: 0.4407 - val_accuracy: 0.7920\n",
      "Epoch 227/300\n",
      "298/298 - 1s - loss: 0.3814 - accuracy: 0.8207 - val_loss: 0.4618 - val_accuracy: 0.7896\n",
      "Epoch 228/300\n",
      "298/298 - 1s - loss: 0.3694 - accuracy: 0.8295 - val_loss: 0.4692 - val_accuracy: 0.7775\n",
      "Epoch 229/300\n",
      "298/298 - 1s - loss: 0.3782 - accuracy: 0.8278 - val_loss: 0.4358 - val_accuracy: 0.8089\n",
      "Epoch 230/300\n",
      "298/298 - 1s - loss: 0.3705 - accuracy: 0.8276 - val_loss: 0.4504 - val_accuracy: 0.7884\n",
      "Epoch 231/300\n",
      "298/298 - 1s - loss: 0.3786 - accuracy: 0.8230 - val_loss: 0.4167 - val_accuracy: 0.8089\n",
      "Epoch 232/300\n",
      "298/298 - 1s - loss: 0.3759 - accuracy: 0.8249 - val_loss: 0.4121 - val_accuracy: 0.8102\n",
      "Epoch 233/300\n",
      "298/298 - 1s - loss: 0.3688 - accuracy: 0.8226 - val_loss: 0.4425 - val_accuracy: 0.8053\n",
      "Epoch 234/300\n",
      "298/298 - 1s - loss: 0.3706 - accuracy: 0.8272 - val_loss: 0.4995 - val_accuracy: 0.7727\n",
      "Epoch 235/300\n",
      "298/298 - 1s - loss: 0.3742 - accuracy: 0.8246 - val_loss: 0.4439 - val_accuracy: 0.7981\n",
      "Epoch 236/300\n",
      "298/298 - 1s - loss: 0.3709 - accuracy: 0.8284 - val_loss: 0.4194 - val_accuracy: 0.7981\n",
      "Epoch 237/300\n",
      "298/298 - 1s - loss: 0.3756 - accuracy: 0.8202 - val_loss: 0.4545 - val_accuracy: 0.7932\n",
      "Epoch 238/300\n",
      "298/298 - 1s - loss: 0.3772 - accuracy: 0.8230 - val_loss: 0.4230 - val_accuracy: 0.7932\n",
      "Epoch 239/300\n",
      "298/298 - 1s - loss: 0.3776 - accuracy: 0.8200 - val_loss: 0.4207 - val_accuracy: 0.8102\n",
      "Epoch 240/300\n",
      "298/298 - 1s - loss: 0.3680 - accuracy: 0.8299 - val_loss: 0.4398 - val_accuracy: 0.8065\n",
      "Epoch 241/300\n",
      "298/298 - 1s - loss: 0.3831 - accuracy: 0.8190 - val_loss: 0.4405 - val_accuracy: 0.7872\n",
      "Epoch 242/300\n",
      "298/298 - 1s - loss: 0.3715 - accuracy: 0.8249 - val_loss: 0.4120 - val_accuracy: 0.8114\n"
     ]
    },
    {
     "output_type": "stream",
     "name": "stdout",
     "text": [
      "Epoch 243/300\n",
      "298/298 - 1s - loss: 0.3758 - accuracy: 0.8256 - val_loss: 0.4378 - val_accuracy: 0.8138\n",
      "Epoch 244/300\n",
      "298/298 - 1s - loss: 0.3726 - accuracy: 0.8270 - val_loss: 0.4526 - val_accuracy: 0.7956\n",
      "Epoch 245/300\n",
      "298/298 - 1s - loss: 0.3689 - accuracy: 0.8272 - val_loss: 0.4215 - val_accuracy: 0.8029\n",
      "Epoch 246/300\n",
      "298/298 - 1s - loss: 0.3622 - accuracy: 0.8284 - val_loss: 0.4496 - val_accuracy: 0.7993\n",
      "Epoch 247/300\n",
      "298/298 - 1s - loss: 0.3720 - accuracy: 0.8280 - val_loss: 0.4245 - val_accuracy: 0.8053\n",
      "Epoch 248/300\n",
      "298/298 - 1s - loss: 0.3684 - accuracy: 0.8285 - val_loss: 0.4436 - val_accuracy: 0.7956\n",
      "Epoch 249/300\n",
      "298/298 - 1s - loss: 0.3788 - accuracy: 0.8237 - val_loss: 0.4616 - val_accuracy: 0.7920\n",
      "Epoch 250/300\n",
      "298/298 - 1s - loss: 0.3787 - accuracy: 0.8211 - val_loss: 0.4297 - val_accuracy: 0.8053\n",
      "Epoch 251/300\n",
      "298/298 - 1s - loss: 0.3637 - accuracy: 0.8296 - val_loss: 0.4238 - val_accuracy: 0.8053\n",
      "Epoch 252/300\n",
      "298/298 - 1s - loss: 0.3708 - accuracy: 0.8261 - val_loss: 0.4581 - val_accuracy: 0.8005\n",
      "Epoch 253/300\n",
      "298/298 - 1s - loss: 0.3721 - accuracy: 0.8253 - val_loss: 0.4311 - val_accuracy: 0.8017\n",
      "Epoch 254/300\n",
      "298/298 - 1s - loss: 0.3691 - accuracy: 0.8280 - val_loss: 0.4258 - val_accuracy: 0.8102\n",
      "Epoch 255/300\n",
      "298/298 - 1s - loss: 0.3640 - accuracy: 0.8284 - val_loss: 0.4171 - val_accuracy: 0.8005\n",
      "Epoch 256/300\n",
      "298/298 - 1s - loss: 0.3731 - accuracy: 0.8242 - val_loss: 0.4295 - val_accuracy: 0.8017\n",
      "Epoch 257/300\n",
      "298/298 - 1s - loss: 0.3696 - accuracy: 0.8276 - val_loss: 0.4515 - val_accuracy: 0.7944\n",
      "Epoch 258/300\n",
      "298/298 - 1s - loss: 0.3663 - accuracy: 0.8292 - val_loss: 0.4103 - val_accuracy: 0.8210\n",
      "Epoch 259/300\n",
      "298/298 - 1s - loss: 0.3660 - accuracy: 0.8324 - val_loss: 0.4032 - val_accuracy: 0.8186\n",
      "Epoch 260/300\n",
      "298/298 - 1s - loss: 0.3731 - accuracy: 0.8257 - val_loss: 0.4090 - val_accuracy: 0.8150\n",
      "Epoch 261/300\n",
      "298/298 - 1s - loss: 0.3729 - accuracy: 0.8295 - val_loss: 0.4502 - val_accuracy: 0.7920\n",
      "Epoch 262/300\n",
      "298/298 - 1s - loss: 0.3741 - accuracy: 0.8215 - val_loss: 0.4575 - val_accuracy: 0.7860\n",
      "Epoch 263/300\n",
      "298/298 - 1s - loss: 0.3668 - accuracy: 0.8324 - val_loss: 0.4491 - val_accuracy: 0.7944\n",
      "Epoch 264/300\n",
      "298/298 - 1s - loss: 0.3677 - accuracy: 0.8276 - val_loss: 0.4772 - val_accuracy: 0.7763\n",
      "Epoch 265/300\n",
      "298/298 - 1s - loss: 0.3548 - accuracy: 0.8307 - val_loss: 0.3950 - val_accuracy: 0.8102\n",
      "Epoch 266/300\n",
      "298/298 - 1s - loss: 0.3671 - accuracy: 0.8256 - val_loss: 0.4327 - val_accuracy: 0.7981\n",
      "Epoch 267/300\n",
      "298/298 - 1s - loss: 0.3883 - accuracy: 0.8195 - val_loss: 0.4947 - val_accuracy: 0.7823\n",
      "Epoch 268/300\n",
      "298/298 - 1s - loss: 0.3800 - accuracy: 0.8245 - val_loss: 0.4260 - val_accuracy: 0.7920\n",
      "Epoch 269/300\n",
      "298/298 - 1s - loss: 0.3743 - accuracy: 0.8249 - val_loss: 0.4331 - val_accuracy: 0.7944\n",
      "Epoch 270/300\n",
      "298/298 - 1s - loss: 0.3609 - accuracy: 0.8320 - val_loss: 0.4553 - val_accuracy: 0.7969\n",
      "Epoch 271/300\n",
      "298/298 - 1s - loss: 0.3676 - accuracy: 0.8280 - val_loss: 0.4211 - val_accuracy: 0.8089\n",
      "Epoch 272/300\n",
      "298/298 - 1s - loss: 0.3649 - accuracy: 0.8299 - val_loss: 0.4468 - val_accuracy: 0.7896\n",
      "Epoch 273/300\n",
      "298/298 - 1s - loss: 0.3641 - accuracy: 0.8289 - val_loss: 0.4058 - val_accuracy: 0.8114\n",
      "Epoch 274/300\n",
      "298/298 - 1s - loss: 0.3573 - accuracy: 0.8354 - val_loss: 0.4189 - val_accuracy: 0.8138\n",
      "Epoch 275/300\n",
      "298/298 - 1s - loss: 0.3695 - accuracy: 0.8281 - val_loss: 0.4259 - val_accuracy: 0.8053\n",
      "Epoch 276/300\n",
      "298/298 - 1s - loss: 0.3590 - accuracy: 0.8339 - val_loss: 0.4445 - val_accuracy: 0.8053\n",
      "Epoch 277/300\n",
      "298/298 - 1s - loss: 0.3637 - accuracy: 0.8299 - val_loss: 0.4007 - val_accuracy: 0.8102\n",
      "Epoch 278/300\n",
      "298/298 - 1s - loss: 0.3616 - accuracy: 0.8363 - val_loss: 0.4371 - val_accuracy: 0.8041\n",
      "Epoch 279/300\n",
      "298/298 - 1s - loss: 0.3632 - accuracy: 0.8299 - val_loss: 0.4256 - val_accuracy: 0.8017\n",
      "Epoch 280/300\n",
      "298/298 - 1s - loss: 0.3591 - accuracy: 0.8325 - val_loss: 0.4079 - val_accuracy: 0.8138\n",
      "Epoch 281/300\n",
      "298/298 - 1s - loss: 0.3557 - accuracy: 0.8339 - val_loss: 0.4486 - val_accuracy: 0.7775\n",
      "Epoch 282/300\n",
      "298/298 - 1s - loss: 0.3611 - accuracy: 0.8325 - val_loss: 0.4364 - val_accuracy: 0.7981\n",
      "Epoch 283/300\n",
      "298/298 - 1s - loss: 0.3841 - accuracy: 0.8180 - val_loss: 0.4131 - val_accuracy: 0.8186\n",
      "Epoch 284/300\n",
      "298/298 - 1s - loss: 0.3588 - accuracy: 0.8338 - val_loss: 0.4127 - val_accuracy: 0.8114\n",
      "Epoch 285/300\n",
      "298/298 - 1s - loss: 0.3558 - accuracy: 0.8347 - val_loss: 0.4473 - val_accuracy: 0.7969\n",
      "Epoch 286/300\n",
      "298/298 - 1s - loss: 0.3741 - accuracy: 0.8288 - val_loss: 0.4208 - val_accuracy: 0.8077\n",
      "Epoch 287/300\n",
      "298/298 - 1s - loss: 0.3505 - accuracy: 0.8363 - val_loss: 0.4304 - val_accuracy: 0.8053\n",
      "Epoch 288/300\n",
      "298/298 - 1s - loss: 0.3713 - accuracy: 0.8304 - val_loss: 0.4621 - val_accuracy: 0.7896\n",
      "Epoch 289/300\n",
      "298/298 - 1s - loss: 0.3660 - accuracy: 0.8262 - val_loss: 0.3877 - val_accuracy: 0.8247\n",
      "Epoch 290/300\n",
      "298/298 - 1s - loss: 0.3518 - accuracy: 0.8317 - val_loss: 0.4223 - val_accuracy: 0.8053\n",
      "Epoch 291/300\n",
      "298/298 - 1s - loss: 0.3628 - accuracy: 0.8284 - val_loss: 0.4323 - val_accuracy: 0.8150\n",
      "Epoch 292/300\n",
      "298/298 - 1s - loss: 0.3460 - accuracy: 0.8377 - val_loss: 0.4273 - val_accuracy: 0.8077\n",
      "Epoch 293/300\n",
      "298/298 - 1s - loss: 0.3560 - accuracy: 0.8334 - val_loss: 0.4101 - val_accuracy: 0.8210\n",
      "Epoch 294/300\n",
      "298/298 - 1s - loss: 0.3615 - accuracy: 0.8321 - val_loss: 0.4180 - val_accuracy: 0.8198\n",
      "Epoch 295/300\n",
      "298/298 - 1s - loss: 0.3556 - accuracy: 0.8340 - val_loss: 0.4544 - val_accuracy: 0.7920\n",
      "Epoch 296/300\n",
      "298/298 - 1s - loss: 0.3547 - accuracy: 0.8350 - val_loss: 0.4095 - val_accuracy: 0.8198\n",
      "Epoch 297/300\n",
      "298/298 - 1s - loss: 0.3764 - accuracy: 0.8286 - val_loss: 0.4887 - val_accuracy: 0.7811\n",
      "Epoch 298/300\n",
      "298/298 - 1s - loss: 0.3549 - accuracy: 0.8356 - val_loss: 0.4405 - val_accuracy: 0.7981\n",
      "Epoch 299/300\n",
      "298/298 - 1s - loss: 0.3653 - accuracy: 0.8296 - val_loss: 0.4121 - val_accuracy: 0.8174\n",
      "Epoch 300/300\n",
      "298/298 - 1s - loss: 0.3562 - accuracy: 0.8358 - val_loss: 0.4857 - val_accuracy: 0.7690\n"
     ]
    }
   ],
   "metadata": {}
  },
  {
   "cell_type": "code",
   "execution_count": 22,
   "source": [
    "figure(figsize=(15, 6), dpi=80)\r\n",
    "plt.subplot(1, 2, 1) # row 1, col 2 index 1\r\n",
    "plt.plot(history.history['accuracy'])\r\n",
    "plt.plot(history.history['val_accuracy'])\r\n",
    "plt.title('Model Accuracy')\r\n",
    "plt.ylabel('Accuracy')\r\n",
    "plt.xlabel('Epoch')\r\n",
    "plt.legend(['train', 'test'], loc='upper left')\r\n",
    "\r\n",
    "plt.subplot(1, 2, 2) # index 2\r\n",
    "plt.plot(history.history['loss'])\r\n",
    "plt.plot(history.history['val_loss'])\r\n",
    "plt.title('Model Loss')\r\n",
    "plt.ylabel('Loss')\r\n",
    "plt.xlabel('Epoch')\r\n",
    "plt.legend(['train', 'test'], loc='upper left')\r\n",
    "\r\n",
    "plt.show()"
   ],
   "outputs": [
    {
     "output_type": "display_data",
     "data": {
      "image/png": "[encoded data removed]",
      "text/plain": [
       "<Figure size 1200x480 with 2 Axes>"
      ]
     },
     "metadata": {
      "needs_background": "light"
     }
    }
   ],
   "metadata": {}
  },
  {
   "cell_type": "code",
   "execution_count": 23,
   "source": [
    "predictions = model.predict(x=X_test, batch_size=10, verbose=0)"
   ],
   "outputs": [
    {
     "output_type": "stream",
     "name": "stderr",
     "text": [
      "2021-09-09 14:40:16.343473: I tensorflow/core/grappler/optimizers/custom_graph_optimizer_registry.cc:112] Plugin optimizer for device_type GPU is enabled.\n"
     ]
    }
   ],
   "metadata": {}
  },
  {
   "cell_type": "code",
   "execution_count": 24,
   "source": [
    "rounded_predictions = np.argmax(predictions,axis=-1)"
   ],
   "outputs": [],
   "metadata": {}
  },
  {
   "cell_type": "code",
   "execution_count": 26,
   "source": [
    "# COACHES NOTES: Consider here a more descriptive variable name as well. Its okay like this.\r\n",
    "cm = confusion_matrix(y_true=y_test,y_pred=rounded_predictions)"
   ],
   "outputs": [],
   "metadata": {}
  },
  {
   "cell_type": "code",
   "execution_count": 27,
   "source": [
    "def plot_confusion_matrix(cm, classes,\r\n",
    "                        normalize=False,\r\n",
    "                        title='Confusion matrix',\r\n",
    "                        cmap=plt.cm.Blues):\r\n",
    "    \"\"\"\r\n",
    "    This function prints and plots the confusion matrix.\r\n",
    "    Normalization can be applied by setting `normalize=True`.\r\n",
    "    \"\"\"\r\n",
    "    plt.imshow(cm, interpolation='nearest', cmap=cmap)\r\n",
    "    plt.title(title)\r\n",
    "    plt.colorbar()\r\n",
    "    tick_marks = np.arange(len(classes))\r\n",
    "    plt.xticks(tick_marks, classes, rotation=45)\r\n",
    "    plt.yticks(tick_marks, classes)\r\n",
    "\r\n",
    "    if normalize:\r\n",
    "        cm = cm.astype('float') / cm.sum(axis=1)[:, np.newaxis]\r\n",
    "        print(\"Normalized confusion matrix\")\r\n",
    "    else:\r\n",
    "        print('Confusion matrix')\r\n",
    "\r\n",
    "    print(cm)\r\n",
    "\r\n",
    "    thresh = cm.max() / 2.\r\n",
    "    for i, j in itertools.product(range(cm.shape[0]), range(cm.shape[1])):\r\n",
    "        plt.text(j, i, cm[i, j],\r\n",
    "            horizontalalignment=\"center\",\r\n",
    "            color=\"white\" if cm[i, j] > thresh else \"black\")\r\n",
    "\r\n",
    "    plt.tight_layout()\r\n",
    "    plt.ylabel('True label')\r\n",
    "    plt.xlabel('Predicted label')"
   ],
   "outputs": [],
   "metadata": {}
  },
  {
   "cell_type": "code",
   "execution_count": 28,
   "source": [
    "cm_plot_labels = ['Bad','Good']"
   ],
   "outputs": [],
   "metadata": {}
  },
  {
   "cell_type": "code",
   "execution_count": 29,
   "source": [
    "plot_confusion_matrix(cm=cm, classes=cm_plot_labels, title='Confusion Matrix')"
   ],
   "outputs": [
    {
     "output_type": "stream",
     "name": "stdout",
     "text": [
      "Confusion matrix\n",
      "[[708 336]\n",
      " [118 904]]\n"
     ]
    },
    {
     "output_type": "display_data",
     "data": {
      "image/png": "[encoded data removed]",
      "text/plain": [
       "<Figure size 432x288 with 2 Axes>"
      ]
     },
     "metadata": {
      "needs_background": "light"
     }
    }
   ],
   "metadata": {}
  },
  {
   "cell_type": "code",
   "execution_count": 30,
   "source": [
    "model.evaluate(X_test, y_test)"
   ],
   "outputs": [
    {
     "output_type": "stream",
     "name": "stdout",
     "text": [
      "65/65 [==============================] - 0s 4ms/step - loss: 0.5052 - accuracy: 0.7803\n"
     ]
    },
    {
     "output_type": "execute_result",
     "data": {
      "text/plain": [
       "[0.5051660537719727, 0.780251681804657]"
      ]
     },
     "metadata": {},
     "execution_count": 30
    }
   ],
   "metadata": {}
  },
  {
   "cell_type": "markdown",
   "source": [
    "RandomForest"
   ],
   "metadata": {}
  },
  {
   "cell_type": "code",
   "execution_count": 31,
   "source": [
    "from sklearn.ensemble import RandomForestClassifier"
   ],
   "outputs": [],
   "metadata": {}
  },
  {
   "cell_type": "code",
   "execution_count": 32,
   "source": [
    "X_train.shape, y_train.shape"
   ],
   "outputs": [
    {
     "output_type": "execute_result",
     "data": {
      "text/plain": [
       "((8262, 11), (8262,))"
      ]
     },
     "metadata": {},
     "execution_count": 32
    }
   ],
   "metadata": {}
  },
  {
   "cell_type": "code",
   "execution_count": 33,
   "source": [
    "clf=RandomForestClassifier(n_estimators=200)"
   ],
   "outputs": [],
   "metadata": {}
  },
  {
   "cell_type": "code",
   "execution_count": 34,
   "source": [
    "clf.fit(X_train, y_train)"
   ],
   "outputs": [
    {
     "output_type": "execute_result",
     "data": {
      "text/plain": [
       "RandomForestClassifier(n_estimators=200)"
      ]
     },
     "metadata": {},
     "execution_count": 34
    }
   ],
   "metadata": {}
  },
  {
   "cell_type": "code",
   "execution_count": 35,
   "source": [
    "y_pred=clf.predict(X_test)"
   ],
   "outputs": [],
   "metadata": {}
  },
  {
   "cell_type": "code",
   "execution_count": 36,
   "source": [
    "result = confusion_matrix(y_test, y_pred)\r\n",
    "print(\"Confusion Matrix:\")\r\n",
    "print(result)\r\n",
    "result1 = classification_report(y_test, y_pred)\r\n",
    "print(\"Classification Report:\",)\r\n",
    "print (result1)\r\n",
    "result2 = accuracy_score(y_test,y_pred)\r\n",
    "print(\"Accuracy:\",result2)"
   ],
   "outputs": [
    {
     "output_type": "stream",
     "name": "stdout",
     "text": [
      "Confusion Matrix:\n",
      "[[ 965   79]\n",
      " [   0 1022]]\n",
      "Classification Report:\n",
      "              precision    recall  f1-score   support\n",
      "\n",
      "           0       1.00      0.92      0.96      1044\n",
      "           1       0.93      1.00      0.96      1022\n",
      "\n",
      "    accuracy                           0.96      2066\n",
      "   macro avg       0.96      0.96      0.96      2066\n",
      "weighted avg       0.96      0.96      0.96      2066\n",
      "\n",
      "Accuracy: 0.9617618586640851\n"
     ]
    }
   ],
   "metadata": {}
  },
  {
   "cell_type": "markdown",
   "source": [
    "KNN"
   ],
   "metadata": {}
  },
  {
   "cell_type": "code",
   "execution_count": 37,
   "source": [
    "from sklearn.neighbors import KNeighborsClassifier"
   ],
   "outputs": [],
   "metadata": {}
  },
  {
   "cell_type": "code",
   "execution_count": 38,
   "source": [
    "classifier = KNeighborsClassifier(n_neighbors = 1)\r\n",
    "classifier.fit(X_train, y_train)"
   ],
   "outputs": [
    {
     "output_type": "execute_result",
     "data": {
      "text/plain": [
       "KNeighborsClassifier(n_neighbors=1)"
      ]
     },
     "metadata": {},
     "execution_count": 38
    }
   ],
   "metadata": {}
  },
  {
   "cell_type": "code",
   "execution_count": 39,
   "source": [
    "y_pred = classifier.predict(X_test)"
   ],
   "outputs": [],
   "metadata": {}
  },
  {
   "cell_type": "code",
   "execution_count": 40,
   "source": [
    "result = confusion_matrix(y_test, y_pred)\r\n",
    "print(\"Confusion Matrix:\")\r\n",
    "print(result)\r\n",
    "result1 = classification_report(y_test, y_pred)\r\n",
    "print(\"Classification Report:\",)\r\n",
    "print (result1)\r\n",
    "result2 = accuracy_score(y_test,y_pred)\r\n",
    "print(\"Accuracy:\",result2)\r\n",
    "\r\n",
    "# COACHES NOTES: I like the structure a lot. The last few models could use some formatting to make it easier to folloz.\r\n",
    "# Say combine the creating the model instance, imports and prediction in one cell, and evaluating in a another. \r\n",
    "# Displqying the confusion matrix for the last two models would look nicer. More commenting throughout would be helpful. Nice job!"
   ],
   "outputs": [
    {
     "output_type": "stream",
     "name": "stdout",
     "text": [
      "Confusion Matrix:\n",
      "[[ 922  122]\n",
      " [   0 1022]]\n",
      "Classification Report:\n",
      "              precision    recall  f1-score   support\n",
      "\n",
      "           0       1.00      0.88      0.94      1044\n",
      "           1       0.89      1.00      0.94      1022\n",
      "\n",
      "    accuracy                           0.94      2066\n",
      "   macro avg       0.95      0.94      0.94      2066\n",
      "weighted avg       0.95      0.94      0.94      2066\n",
      "\n",
      "Accuracy: 0.9409486931268151\n"
     ]
    }
   ],
   "metadata": {}
  }
 ],
 "metadata": {
  "kernelspec": {
   "display_name": "Python 3.9 (tensorflow)",
   "language": "python",
   "name": "tensorflow"
  },
  "language_info": {
   "codemirror_mode": {
    "name": "ipython",
    "version": 3
   },
   "file_extension": ".py",
   "mimetype": "text/x-python",
   "name": "python",
   "nbconvert_exporter": "python",
   "pygments_lexer": "ipython3",
   "version": "3.9.6"
  }
 },
 "nbformat": 4,
 "nbformat_minor": 5
}